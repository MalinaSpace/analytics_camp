{
 "cells": [
  {
   "cell_type": "code",
   "execution_count": 175,
   "id": "0569adeb",
   "metadata": {},
   "outputs": [],
   "source": [
    "import numpy as np\n",
    "import pandas as pd\n",
    "from scipy import stats as st\n",
    "\n",
    "DATASET_PATH = '../input/analytics_session/summer_camp_data.csv'\n",
    "\n",
    "df = pd.read_csv(DATASET_PATH)"
   ]
  },
  {
   "cell_type": "markdown",
   "id": "3b022326",
   "metadata": {},
   "source": [
    "### a. Какой рекламный канал принёс больше всего дохода за всё время?"
   ]
  },
  {
   "cell_type": "code",
   "execution_count": 176,
   "id": "7aff428e",
   "metadata": {},
   "outputs": [
    {
     "name": "stdout",
     "output_type": "stream",
     "text": [
      "date                     2020-09-11\n",
      "source                     (direct)\n",
      "medium                       (none)\n",
      "delivery_available    Не определено\n",
      "device_type           Не определено\n",
      "promo_activated                  no\n",
      "filter_used                      no\n",
      "pageviews                       641\n",
      "visits                         1329\n",
      "productClick                      0\n",
      "addToCart                         0\n",
      "checkout                          0\n",
      "transactions                   1005\n",
      "revenue                   1397420.0\n",
      "Name: 17665, dtype: object\n"
     ]
    }
   ],
   "source": [
    "sort_df = df.sort_values(by='revenue', ascending=False)\n",
    "print(sort_df.iloc[0])"
   ]
  },
  {
   "cell_type": "markdown",
   "id": "ce30d3b9",
   "metadata": {},
   "source": [
    "### b. Как изменился средний чек транзакции после введения коронавирусных ограничений? Как он изменился для пользователей, покупающих с промокодом и без? (параметр «promo_activated»)"
   ]
  },
  {
   "cell_type": "code",
   "execution_count": 177,
   "id": "04bd46d6",
   "metadata": {},
   "outputs": [
    {
     "name": "stdout",
     "output_type": "stream",
     "text": [
      "Средний чек до введения ограничений: 21.87\n",
      "Средний чек после введения ограничений: 19.47\n",
      "Средний чек снизился на 10.98 процентов после введения коронавирусных ограничений\n",
      "////////////////\n",
      "Средние чеки пользователей до введения ковидных ограничений:\n",
      "с промокодом: 23.27\n",
      "без промокода: 20.69\n",
      "Средние чеки пользователей после введения ковидных ограничений:\n",
      "с промокодом: 21.19\n",
      "без промокода: 17.85\n",
      "////////////////\n",
      "Средний чек пользователя, покупающего с промокодом выше, чем чек пользователя, осуществляющего покупки без промокода\n"
     ]
    }
   ],
   "source": [
    "# выделим два датафрейма, первый будет содержать записи до ковидных \n",
    "# ограничений, второй после\n",
    "before_cov = df['date'] <= '2020-03-16'\n",
    "before_cov_df = df.loc[before_cov]\n",
    "\n",
    "after_cov = df['date'] > '2020-03-16'\n",
    "after_cov_df = df.loc[after_cov]\n",
    "\n",
    "# рассчитываем средний чек до и после ограничений\n",
    "mean_trans_before_cov = before_cov_df['transactions'].mean()\n",
    "mean_trans_after_cov = after_cov_df['transactions'].mean()\n",
    "\n",
    "print(f'Средний чек до введения ограничений: {mean_trans_before_cov:.2f}')\n",
    "print(f'Средний чек после введения ограничений: {mean_trans_after_cov:.2f}')\n",
    "print(f'Средний чек снизился на {100 - mean_trans_after_cov / mean_trans_before_cov * 100:.2f} процентов после введения коронавирусных ограничений')\n",
    "\n",
    "# выделим пользователей с промокодом и без\n",
    "before_cov_activ_df = before_cov_df.loc[before_cov_df['promo_activated'] == 'yes']\n",
    "before_cov_not_activ_df = before_cov_df.loc[before_cov_df['promo_activated'] == 'no']\n",
    "after_cov_activ_df = after_cov_df.loc[after_cov_df['promo_activated'] == 'yes']\n",
    "after_cov_not_activ_df = after_cov_df.loc[after_cov_df['promo_activated'] == 'no']\n",
    "\n",
    "# рассчитаем средние показатели\n",
    "mean_before_cov_activ = before_cov_activ_df['transactions'].mean()\n",
    "mean_before_cov_not_activ = before_cov_not_activ_df['transactions'].mean()\n",
    "mean_after_cov_activ = after_cov_activ_df['transactions'].mean()\n",
    "mean_after_cov_not_activ = after_cov_not_activ_df['transactions'].mean()\n",
    "\n",
    "print(\"////////////////\")\n",
    "\n",
    "print(\"Средние чеки пользователей до введения ковидных ограничений:\")\n",
    "print(f'с промокодом: {mean_before_cov_activ:.2f}')\n",
    "print(f'без промокода: {mean_before_cov_not_activ:.2f}')\n",
    "\n",
    "print(\"Средние чеки пользователей после введения ковидных ограничений:\")\n",
    "print(f'с промокодом: {mean_after_cov_activ:.2f}')\n",
    "print(f'без промокода: {mean_after_cov_not_activ:.2f}')\n",
    "\n",
    "print(\"////////////////\")\n",
    "print(\"Средний чек пользователя, покупающего с промокодом выше, чем чек пользователя, осуществляющего покупки без промокода\")"
   ]
  },
  {
   "cell_type": "markdown",
   "id": "00c16928",
   "metadata": {},
   "source": [
    "### c. Можно ли с уверенностью в 95% сказать, что CR (коэффициент конверсии в транзакцию) в выходные дни отличается от CR в будние дни?"
   ]
  },
  {
   "cell_type": "code",
   "execution_count": 178,
   "id": "6dd57dcb",
   "metadata": {},
   "outputs": [
    {
     "name": "stdout",
     "output_type": "stream",
     "text": [
      "Средняя конверсия в рабочие дни: 37.6%\n",
      "Средняя конверсия в выходные дни: 40.0%\n"
     ]
    },
    {
     "name": "stderr",
     "output_type": "stream",
     "text": [
      "/tmp/ipykernel_216712/3397309698.py:9: SettingWithCopyWarning: \n",
      "A value is trying to be set on a copy of a slice from a DataFrame.\n",
      "Try using .loc[row_indexer,col_indexer] = value instead\n",
      "\n",
      "See the caveats in the documentation: https://pandas.pydata.org/pandas-docs/stable/user_guide/indexing.html#returning-a-view-versus-a-copy\n",
      "  workdays_df['cr'] = workdays_df['transactions'] / workdays_df['visits'] * 100\n",
      "/tmp/ipykernel_216712/3397309698.py:10: SettingWithCopyWarning: \n",
      "A value is trying to be set on a copy of a slice from a DataFrame.\n",
      "Try using .loc[row_indexer,col_indexer] = value instead\n",
      "\n",
      "See the caveats in the documentation: https://pandas.pydata.org/pandas-docs/stable/user_guide/indexing.html#returning-a-view-versus-a-copy\n",
      "  rest_days_df['cr'] = rest_days_df['transactions'] / rest_days_df['visits'] * 100\n"
     ]
    }
   ],
   "source": [
    "# добавим столбцы с днями недели\n",
    "df['date'] = pd.to_datetime(df['date'])\n",
    "df['weekday'] = df['date'].dt.weekday\n",
    "\n",
    "workdays_df = df.query('weekday ! = 5 and weekday ! = 6')\n",
    "rest_days_df = df.query('weekday == 5 or weekday == 6')\n",
    "\n",
    "# считаем CR\n",
    "workdays_df['cr'] = workdays_df['transactions'] / workdays_df['visits'] * 100\n",
    "rest_days_df['cr'] = rest_days_df['transactions'] / rest_days_df['visits'] * 100\n",
    "\n",
    "# считаем конверсию в будние и выходные дни\n",
    "mean_cr_workday = workdays_df['cr'].mean()\n",
    "mean_cr_rest = rest_days_df['cr'].mean()\n",
    "\n",
    "print(f'Средняя конверсия в рабочие дни: {mean_cr_workday:.1f}%')\n",
    "print(f'Средняя конверсия в выходные дни: {mean_cr_rest:.1f}%')\n"
   ]
  },
  {
   "cell_type": "markdown",
   "id": "fb4ef09e",
   "metadata": {},
   "source": [
    "H0 - CR в выходные дни не отличается от CR в будние\n",
    "\n",
    "H1 - CR в выходные дни отличается от CR в будние"
   ]
  },
  {
   "cell_type": "code",
   "execution_count": 180,
   "id": "508ed290",
   "metadata": {},
   "outputs": [
    {
     "name": "stdout",
     "output_type": "stream",
     "text": [
      "1489.6795685833022\n",
      "1456.1746298912371\n"
     ]
    }
   ],
   "source": [
    "# вычислим дисперсию CR\n",
    "var_workdays = np.var(workdays_df['cr'], ddof=1)\n",
    "var_rest_days = np.var(rest_days_df['cr'], ddof=1)\n",
    "\n",
    "print(var_workdays)\n",
    "print(var_rest_days)\n",
    "\n",
    "# критерий статистической значимости\n",
    "alpha = 0.5"
   ]
  },
  {
   "cell_type": "code",
   "execution_count": 184,
   "id": "147d505d",
   "metadata": {},
   "outputs": [
    {
     "name": "stdout",
     "output_type": "stream",
     "text": [
      "p-value: 7.476651926325496e-11\n",
      "Отвергаем нулевую гипотезу\n"
     ]
    }
   ],
   "source": [
    "test = st.ttest_ind(workdays_df['cr'],\n",
    "                   rest_days_df['cr'], equal_var = False)\n",
    "\n",
    "print(f'p-value: {test.pvalue}')\n",
    "\n",
    "if (test.pvalue < alpha):\n",
    "    print(\"Отвергаем нулевую гипотезу\")\n",
    "else:\n",
    "    print(\"Не получилось отвергнуть нулевую гипотезу\") \n"
   ]
  },
  {
   "cell_type": "markdown",
   "id": "edab1ae4",
   "metadata": {},
   "source": [
    "Можно сделать вывод, что с уверенностью в 95% CR в выходные дни отличается от CR в будние."
   ]
  },
  {
   "cell_type": "markdown",
   "id": "14c61f44",
   "metadata": {},
   "source": [
    "### d. Вам необходимо спрогнозировать объем дохода, полученного с пользователей, приведенных на сайт контекстной рекламой (medium = cpc) на полгода вперед. Опишите, как бы вы подошли к этой задаче и какие дополнительные данные вам понадобятся?"
   ]
  },
  {
   "cell_type": "markdown",
   "id": "77811c79",
   "metadata": {},
   "source": [
    "### План:\n",
    "1. Произвести ресемплирование данных.\n",
    "2. Проанализировать данные, произвести графический анализ временных рядов.\n",
    "3. Определить тренд и сезонность.\n",
    "4. Выделить тренировочную и тестовую выборку.\n",
    "5. Обучить модели, оценить качество, выбрать наилучшую.\n",
    "6. Проверить модель на тестовой выборке.\n",
    "7. Сделать выводы.\n"
   ]
  },
  {
   "cell_type": "code",
   "execution_count": 193,
   "id": "52b9c167",
   "metadata": {},
   "outputs": [],
   "source": [
    "temp_data = pd.read_csv(DATASET_PATH, sep=',', index_col=[0], parse_dates=[0])\n",
    "data = temp_data.query(\"medium == 'cpc'\")"
   ]
  },
  {
   "cell_type": "code",
   "execution_count": null,
   "id": "245e8d7e",
   "metadata": {},
   "outputs": [],
   "source": []
  }
 ],
 "metadata": {
  "kernelspec": {
   "display_name": "Python 3 (ipykernel)",
   "language": "python",
   "name": "python3"
  },
  "language_info": {
   "codemirror_mode": {
    "name": "ipython",
    "version": 3
   },
   "file_extension": ".py",
   "mimetype": "text/x-python",
   "name": "python",
   "nbconvert_exporter": "python",
   "pygments_lexer": "ipython3",
   "version": "3.8.10"
  }
 },
 "nbformat": 4,
 "nbformat_minor": 5
}
